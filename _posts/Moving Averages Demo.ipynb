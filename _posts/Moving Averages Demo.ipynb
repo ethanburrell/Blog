{
 "cells": [
  {
   "cell_type": "markdown",
   "metadata": {},
   "source": [
    "# An explanation of Moving Averages with Graphs"
   ]
  },
  {
   "cell_type": "code",
   "execution_count": 168,
   "metadata": {},
   "outputs": [],
   "source": [
    "import numpy as np\n",
    "import matplotlib.pyplot as plt\n",
    "import matplotlib.patches as mpatches"
   ]
  },
  {
   "cell_type": "code",
   "execution_count": 187,
   "metadata": {},
   "outputs": [
    {
     "data": {
      "text/plain": [
       "[0,\n",
       " 1,\n",
       " 2,\n",
       " 3,\n",
       " 4,\n",
       " 5,\n",
       " 6,\n",
       " 7,\n",
       " 8,\n",
       " 9,\n",
       " 10,\n",
       " 5.5,\n",
       " 6.0,\n",
       " 6.5,\n",
       " 7.0,\n",
       " 15,\n",
       " 20.0,\n",
       " 21.25,\n",
       " 22.5,\n",
       " 23.75]"
      ]
     },
     "execution_count": 187,
     "metadata": {},
     "output_type": "execute_result"
    }
   ],
   "source": [
    "def condition(x):\n",
    "    if x > 10 and x < 15:\n",
    "        return .5 * x\n",
    "    elif x > 15:\n",
    "        return 1.25 * x\n",
    "    else:\n",
    "        return x\n",
    "#c = lambda x: -1.318967714·10-5*x^6 + 6.128740998·10-4 x5 - 9.595261125·10-3 x4 + 5.489556498·10-2 x3 - 9.712997891·10-2 x2 + 0.981789596 x + 4.241105723·10-2\n",
    "c = lambda x: 2.057185124*10^(-3)*x^3 - 9.497062815*10^(-2)*x^2 + 1.493920902*x - 0.326595144\n",
    "x_axis = [i for i in range(20)]\n",
    "y_axis = [condition(i) for i in range(20)]\n",
    "y_axis"
   ]
  },
  {
   "cell_type": "code",
   "execution_count": 192,
   "metadata": {},
   "outputs": [],
   "source": [
    "def calc_moving_average(x, time):\n",
    "    l = len(x)\n",
    "    arr = []\n",
    "    arr.extend([0 for i in x[:time-1]])\n",
    "    for i in range(time - 1, l):\n",
    "        a = x[i-time-1:i+1]\n",
    "        value = sum(a) / time\n",
    "        arr.append(value)\n",
    "    return arr"
   ]
  },
  {
   "cell_type": "code",
   "execution_count": 193,
   "metadata": {},
   "outputs": [
    {
     "data": {
      "text/plain": [
       "True"
      ]
     },
     "execution_count": 193,
     "metadata": {},
     "output_type": "execute_result"
    }
   ],
   "source": [
    "y_axis_average = calc_moving_average(y_axis, 2)\n",
    "len(y_axis) == len(x_axis)"
   ]
  },
  {
   "cell_type": "code",
   "execution_count": null,
   "metadata": {},
   "outputs": [],
   "source": []
  },
  {
   "cell_type": "code",
   "execution_count": 194,
   "metadata": {},
   "outputs": [
    {
     "data": {
      "image/png": "[encoded data removed]",
      "text/plain": [
       "<matplotlib.figure.Figure at 0x10b30d550>"
      ]
     },
     "metadata": {},
     "output_type": "display_data"
    }
   ],
   "source": [
    "green = mpatches.Patch(color='blue', label='Price')\n",
    "blue = mpatches.Patch(color='green', label='Moving Average')\n",
    "plt.legend(handles=[green, blue])\n",
    "\n",
    "plt.plot(x_axis, y_axis, 'b')\n",
    "plt.plot(x_axis, [sum(y_axis)/20 for i in y_axis], 'g')\n",
    "plt.xticks(x_axis)\n",
    "plt.xlabel(\"Time\")\n",
    "plt.ylabel(\"Price\")\n",
    "plt.show()"
   ]
  },
  {
   "cell_type": "code",
   "execution_count": 195,
   "metadata": {},
   "outputs": [
    {
     "data": {
      "image/png": "[encoded data removed]",
      "text/plain": [
       "<matplotlib.figure.Figure at 0x10b7ca5c0>"
      ]
     },
     "metadata": {},
     "output_type": "display_data"
    }
   ],
   "source": [
    "plt.plot(x_axis, y_axis, 'b')\n",
    "plt.plot(x_axis, y_axis_average, 'g')\n",
    "plt.xticks(x_axis)\n",
    "plt.show()"
   ]
  },
  {
   "cell_type": "code",
   "execution_count": null,
   "metadata": {
    "collapsed": true
   },
   "outputs": [],
   "source": []
  }
 ],
 "metadata": {
  "kernelspec": {
   "display_name": "Python 3",
   "language": "python",
   "name": "python3"
  },
  "language_info": {
   "codemirror_mode": {
    "name": "ipython",
    "version": 3
   },
   "file_extension": ".py",
   "mimetype": "text/x-python",
   "name": "python",
   "nbconvert_exporter": "python",
   "pygments_lexer": "ipython3",
   "version": "3.6.1"
  }
 },
 "nbformat": 4,
 "nbformat_minor": 2
}
